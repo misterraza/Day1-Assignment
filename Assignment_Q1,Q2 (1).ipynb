{
  "nbformat": 4,
  "nbformat_minor": 0,
  "metadata": {
    "colab": {
      "name": "Assignment_Q1,Q2",
      "provenance": [],
      "collapsed_sections": []
    },
    "kernelspec": {
      "name": "python3",
      "display_name": "Python 3"
    },
    "language_info": {
      "name": "python"
    }
  },
  "cells": [
    {
      "cell_type": "code",
      "metadata": {
        "id": "77b45JpMXGX7"
      },
      "source": [
        "#Create 2 list with some brand names"
      ],
      "execution_count": 1,
      "outputs": []
    },
    {
      "cell_type": "code",
      "metadata": {
        "id": "1flWDG2fX-s7"
      },
      "source": [
        "#list 1 Laptop Brands"
      ],
      "execution_count": null,
      "outputs": []
    },
    {
      "cell_type": "code",
      "metadata": {
        "id": "1k2-dHh_XUi0"
      },
      "source": [
        "list_of_laptopbrands = [\"DELL\", \"LENOVO\", \"HP\", \"ASUS\", \"MI\", \"APPLE\"]"
      ],
      "execution_count": 2,
      "outputs": []
    },
    {
      "cell_type": "code",
      "metadata": {
        "colab": {
          "base_uri": "https://localhost:8080/"
        },
        "id": "q30euQ0KXvwK",
        "outputId": "1d4f2522-b5a7-4afa-9c8d-cb59dc6b8dfe"
      },
      "source": [
        "type(list_of_laptopbrands)"
      ],
      "execution_count": 3,
      "outputs": [
        {
          "output_type": "execute_result",
          "data": {
            "text/plain": [
              "list"
            ]
          },
          "metadata": {
            "tags": []
          },
          "execution_count": 3
        }
      ]
    },
    {
      "cell_type": "code",
      "metadata": {
        "colab": {
          "base_uri": "https://localhost:8080/"
        },
        "id": "CbB3QXWiX1U1",
        "outputId": "1beb500a-778b-4715-d21e-5be6590b7a5d"
      },
      "source": [
        "list_of_laptopbrands"
      ],
      "execution_count": 4,
      "outputs": [
        {
          "output_type": "execute_result",
          "data": {
            "text/plain": [
              "['DELL', 'LENOVO', 'HP', 'ASUS', 'MI', 'APPLE']"
            ]
          },
          "metadata": {
            "tags": []
          },
          "execution_count": 4
        }
      ]
    },
    {
      "cell_type": "code",
      "metadata": {
        "id": "ymebpNAfX5ZQ"
      },
      "source": [
        "#list 2 OTT Platforms "
      ],
      "execution_count": 5,
      "outputs": []
    },
    {
      "cell_type": "code",
      "metadata": {
        "id": "k8d1B0KhYTn8"
      },
      "source": [
        "list_of_OTT =[\"AMAZON PRIME\", \"NETFLIX\", \"HOTSTAR\", \"ZEE\", \"SONYLIV\"]"
      ],
      "execution_count": 6,
      "outputs": []
    },
    {
      "cell_type": "code",
      "metadata": {
        "colab": {
          "base_uri": "https://localhost:8080/"
        },
        "id": "D3QWKcd6YxSM",
        "outputId": "410d26be-3cfa-45c5-8ce5-6d975ca07aff"
      },
      "source": [
        "type(list_of_OTT)"
      ],
      "execution_count": 7,
      "outputs": [
        {
          "output_type": "execute_result",
          "data": {
            "text/plain": [
              "list"
            ]
          },
          "metadata": {
            "tags": []
          },
          "execution_count": 7
        }
      ]
    },
    {
      "cell_type": "code",
      "metadata": {
        "colab": {
          "base_uri": "https://localhost:8080/"
        },
        "id": "1FiXftTBY3NZ",
        "outputId": "1fedb6a7-bc6b-4a92-9ac2-da7fcc560853"
      },
      "source": [
        "list_of_OTT"
      ],
      "execution_count": 8,
      "outputs": [
        {
          "output_type": "execute_result",
          "data": {
            "text/plain": [
              "['AMAZON PRIME', 'NETFLIX', 'HOTSTAR', 'ZEE', 'SONYLIV']"
            ]
          },
          "metadata": {
            "tags": []
          },
          "execution_count": 8
        }
      ]
    },
    {
      "cell_type": "code",
      "metadata": {
        "colab": {
          "base_uri": "https://localhost:8080/"
        },
        "id": "TPdwv131uIzX",
        "outputId": "57e6768e-82e0-45fa-b239-9932c5ab2c89"
      },
      "source": [
        "#List of brands in acending order\n",
        "sorted(list_of_OTT)"
      ],
      "execution_count": 36,
      "outputs": [
        {
          "output_type": "execute_result",
          "data": {
            "text/plain": [
              "['AMAZON PRIME', 'HOTSTAR', 'NETFLIX', 'SONYLIV', 'ZEE']"
            ]
          },
          "metadata": {
            "tags": []
          },
          "execution_count": 36
        }
      ]
    },
    {
      "cell_type": "code",
      "metadata": {
        "id": "HckhOmUnvnHJ"
      },
      "source": [
        "#List of overlapping brand names in both lists"
      ],
      "execution_count": 34,
      "outputs": []
    },
    {
      "cell_type": "code",
      "metadata": {
        "colab": {
          "base_uri": "https://localhost:8080/"
        },
        "id": "y3QIO0x7vUT5",
        "outputId": "fd8f3643-f72c-482a-9e3a-008c9e7df429"
      },
      "source": [
        "list_of_laptopbrands + list_of_OTT"
      ],
      "execution_count": 33,
      "outputs": [
        {
          "output_type": "execute_result",
          "data": {
            "text/plain": [
              "['DELL',\n",
              " 'LENOVO',\n",
              " 'HP',\n",
              " 'ASUS',\n",
              " 'MI',\n",
              " 'APPLE',\n",
              " 'AMAZON PRIME',\n",
              " 'NETFLIX',\n",
              " 'HOTSTAR',\n",
              " 'ZEE',\n",
              " 'SONYLIV']"
            ]
          },
          "metadata": {
            "tags": []
          },
          "execution_count": 33
        }
      ]
    },
    {
      "cell_type": "code",
      "metadata": {
        "colab": {
          "base_uri": "https://localhost:8080/"
        },
        "id": "IzYF2ZfAvsBN",
        "outputId": "334d7bbd-90eb-40a2-c20a-ee299e70057a"
      },
      "source": [
        "list_of_laptopbrands + [\"AMAZON PRIME\", \"NETFLIX\", \"HOTSTAR\", \"ZEE\", \"SONYLIV\"]"
      ],
      "execution_count": 35,
      "outputs": [
        {
          "output_type": "execute_result",
          "data": {
            "text/plain": [
              "['DELL',\n",
              " 'LENOVO',\n",
              " 'HP',\n",
              " 'ASUS',\n",
              " 'MI',\n",
              " 'APPLE',\n",
              " 'AMAZON PRIME',\n",
              " 'NETFLIX',\n",
              " 'HOTSTAR',\n",
              " 'ZEE',\n",
              " 'SONYLIV']"
            ]
          },
          "metadata": {
            "tags": []
          },
          "execution_count": 35
        }
      ]
    },
    {
      "cell_type": "code",
      "metadata": {
        "id": "7BtsD6Mwv9m7"
      },
      "source": [
        ""
      ],
      "execution_count": null,
      "outputs": []
    }
  ]
}
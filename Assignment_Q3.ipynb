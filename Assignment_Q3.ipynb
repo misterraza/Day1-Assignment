{
  "nbformat": 4,
  "nbformat_minor": 0,
  "metadata": {
    "colab": {
      "name": "Assignment_Q3.ipynb",
      "provenance": [],
      "collapsed_sections": []
    },
    "kernelspec": {
      "name": "python3",
      "display_name": "Python 3"
    },
    "language_info": {
      "name": "python"
    }
  },
  "cells": [
    {
      "cell_type": "code",
      "metadata": {
        "id": "S96-5I7OsRD_"
      },
      "source": [
        "#Print even numbers starting with 20 and ending with 40"
      ],
      "execution_count": null,
      "outputs": []
    },
    {
      "cell_type": "code",
      "metadata": {
        "colab": {
          "base_uri": "https://localhost:8080/"
        },
        "id": "hzOKwTRyliSm",
        "outputId": "1ac83ed8-37e1-43b3-af39-5e00379c5406"
      },
      "source": [
        "range(20,40,2) #generates numbers with given space - range (start, stop, step)"
      ],
      "execution_count": 8,
      "outputs": [
        {
          "output_type": "execute_result",
          "data": {
            "text/plain": [
              "range(20, 40, 2)"
            ]
          },
          "metadata": {
            "tags": []
          },
          "execution_count": 8
        }
      ]
    },
    {
      "cell_type": "code",
      "metadata": {
        "colab": {
          "base_uri": "https://localhost:8080/"
        },
        "id": "DAFm2eAUqSGh",
        "outputId": "77b6b7b4-d7dc-439e-e9cc-359d82dd39f1"
      },
      "source": [
        "for i in range (20, 40, 2) :\n",
        "  print (i, end = \" \")"
      ],
      "execution_count": 7,
      "outputs": [
        {
          "output_type": "stream",
          "text": [
            "20 22 24 26 28 30 32 34 36 38 "
          ],
          "name": "stdout"
        }
      ]
    }
  ]
}